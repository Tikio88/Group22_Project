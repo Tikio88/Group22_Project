{
 "cells": [
  {
   "cell_type": "markdown",
   "id": "ca6d07f7-2373-44cf-b7a0-b69e324a1f8a",
   "metadata": {},
   "source": [
    "## Unveiling Pulsars: Machine Learning for Pulsar Identification?"
   ]
  },
  {
   "cell_type": "markdown",
   "id": "7bd13624-c137-41a0-91ae-ca332e7096c7",
   "metadata": {},
   "source": [
    "#### Introduction"
   ]
  },
  {
   "cell_type": "markdown",
   "id": "b86e8064-cff4-450b-a288-0d8420584d04",
   "metadata": {},
   "source": [
    "The HTRU2 dataset comes from a project that looks for rare stars called pulsars, which send radio signals to Earth. These stars are essential for understanding space and the relation between stars.\n",
    "\n",
    "Pulsars spin quickly, and as they do, they send out a repeating radio signal that can be detected using radio telescopes. This signal is like a specific code for each pulsar, but it's hard to find because there's a lot of interference and noise.\n",
    "\n",
    "The dataset we'll use includes measurements like the average pulse, its variability, shape, and other features. It has a total of 17,898 examples. Among these, 1,639 are positive (real pulsars), and 16,259 are negative (noise). The data comes in two formats, CSV and ARFF, and each entry has a set of values for these measurements, with 0 indicating noise and 1 indicating a real pulsar.\n",
    "\n",
    "To discover hidden pulsars, we use Python that learns from examples. We tell the computer what real pulsars look like and what noise looks like. Then, it tries to sort new examples into \"pulsar\" or \"not pulsar.\" Our goal is to create a program that can tell the difference between pulsars and noise, which will help us discover more about these incredible stars.\n"
   ]
  },
  {
   "cell_type": "markdown",
   "id": "d469fa2a-dccd-4e4c-a73c-f9788d1f340a",
   "metadata": {},
   "source": [
    "#### Preliminary exploratory data analysis"
   ]
  },
  {
   "cell_type": "markdown",
   "id": "6af7f6a4-eff1-4658-8187-dc39e4add160",
   "metadata": {},
   "source": [
    "- Read in dataset\n",
    "- clean and wrangle\n",
    "- summarize table in one data\n",
    "- visualize data with one plot relevant to our analysis"
   ]
  },
  {
   "cell_type": "code",
   "execution_count": null,
   "id": "e1fdd1f6-ddee-4642-880f-88fb0d3d0600",
   "metadata": {},
   "outputs": [],
   "source": [
    "# import dataset"
   ]
  },
  {
   "cell_type": "code",
   "execution_count": null,
   "id": "a1285253-fc88-4762-8ba8-396c0d8fd6cc",
   "metadata": {},
   "outputs": [],
   "source": [
    "# clean"
   ]
  },
  {
   "cell_type": "code",
   "execution_count": null,
   "id": "5c5554ac-c2cf-4b2f-90a3-0b0e3c45d8a4",
   "metadata": {},
   "outputs": [],
   "source": [
    "# table - using only training data"
   ]
  },
  {
   "cell_type": "code",
   "execution_count": null,
   "id": "8281b968-5649-4017-8e3e-ba56f7a1d537",
   "metadata": {},
   "outputs": [],
   "source": [
    "# plot - using only training data"
   ]
  },
  {
   "cell_type": "markdown",
   "id": "00038944-d744-4da3-bdab-501ab9e9fba9",
   "metadata": {},
   "source": [
    "#### Methods"
   ]
  },
  {
   "cell_type": "markdown",
   "id": "3c96e53d-b182-4545-b58e-2d76233193f3",
   "metadata": {},
   "source": [
    "Explain"
   ]
  },
  {
   "cell_type": "markdown",
   "id": "a29dd108-4260-4cb0-814b-58b20340192b",
   "metadata": {
    "tags": []
   },
   "source": [
    "Describe"
   ]
  },
  {
   "cell_type": "markdown",
   "id": "e32ab31a-ce22-4f9c-bdc9-cbf3c230fa65",
   "metadata": {},
   "source": [
    "#### Expected outcomes and Significance"
   ]
  },
  {
   "cell_type": "markdown",
   "id": "78deb200-bc55-4318-8d16-055e39c9cab4",
   "metadata": {},
   "source": [
    "- What we will find? Look at visualizations, data, etc.\n",
    "- Impact of findings?\n",
    "- Future questions? "
   ]
  }
 ],
 "metadata": {
  "kernelspec": {
   "display_name": "Python 3 (ipykernel)",
   "language": "python",
   "name": "python3"
  },
  "language_info": {
   "codemirror_mode": {
    "name": "ipython",
    "version": 3
   },
   "file_extension": ".py",
   "mimetype": "text/x-python",
   "name": "python",
   "nbconvert_exporter": "python",
   "pygments_lexer": "ipython3",
   "version": "3.10.8"
  }
 },
 "nbformat": 4,
 "nbformat_minor": 5
}
