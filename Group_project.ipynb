{
 "cells": [
  {
   "cell_type": "markdown",
   "id": "dc692f1f-e4ad-460f-9997-a3ae617b2241",
   "metadata": {},
   "source": [
    "## Unveiling Pulsars: Machine Learning for Pulsar Identification"
   ]
  },
  {
   "cell_type": "markdown",
   "id": "d3d1326d-f74f-415e-9300-99f10e130260",
   "metadata": {
    "tags": []
   },
   "source": [
    "#### Introduction"
   ]
  },
  {
   "cell_type": "markdown",
   "id": "be435423-63b1-45da-8bdc-ba6341c3703c",
   "metadata": {},
   "source": [
    "The HTRU2 dataset comes from a project that looks for rare stars called pulsars, which send radio signals to Earth. These stars are essential for understanding space and the relation between stars.\n",
    "\n",
    "Pulsars spin quickly, and as they do, they send out a repeating radio signal that can be detected using radio telescopes. This signal is like a specific code for each pulsar, but it's hard to find because there's a lot of interference and noise.\n",
    "\n",
    "The dataset we will use includes measurements like the average pulse, its variability, shape, and other features. It has a total of 17,898 examples. Among these, 1,639 are positive (real pulsars), and 16,259 are negative (noise). The data comes in two formats, CSV and ARFF, and each entry has a set of values for these measurements, with 0 indicating noise and 1 indicating a real pulsar.\n",
    "\n",
    "To discover hidden pulsars, we use Python that learns from examples. We tell the computer what real pulsars look like and what noise looks like. Then, it tries to sort new examples into \"pulsar\" or \"not pulsar.\" Our goal is to create a program that can tell the difference between pulsars and noise, which will help us discover more about these incredible stars."
   ]
  },
  {
   "cell_type": "markdown",
   "id": "4afa9063-fb03-4031-a63c-aae325661d70",
   "metadata": {
    "tags": []
   },
   "source": [
    "#### Methods and Results"
   ]
  },
  {
   "cell_type": "markdown",
   "id": "3b286f20-28af-4526-9e70-3365a8b0f3f9",
   "metadata": {},
   "source": [
    "Import packages needed for analysis"
   ]
  },
  {
   "cell_type": "code",
   "execution_count": 1,
   "id": "ebc5ff49-90cd-4a90-9525-3dc8e78d3747",
   "metadata": {
    "tags": []
   },
   "outputs": [],
   "source": [
    "import random\n",
    "\n",
    "import altair as alt\n",
    "import pandas as pd\n",
    "import numpy as np\n",
    "from sklearn import set_config\n",
    "from sklearn.compose import make_column_transformer\n",
    "from sklearn.metrics.pairwise import euclidean_distances\n",
    "from sklearn.neighbors import KNeighborsClassifier\n",
    "from sklearn.pipeline import make_pipeline\n",
    "from sklearn.preprocessing import OneHotEncoder, StandardScaler\n",
    "from sklearn.model_selection import GridSearchCV\n",
    "from sklearn.utils import resample\n",
    "\n",
    "\n",
    "# Simplify working with large datasets in Altair\n",
    "alt.data_transformers.disable_max_rows()\n",
    "\n",
    "# Output dataframes instead of arrays\n",
    "set_config(transform_output=\"pandas\")"
   ]
  },
  {
   "cell_type": "markdown",
   "id": "cc97d426-31f6-4bcc-9411-5d09b195d7d4",
   "metadata": {},
   "source": [
    "First, we need to load the data set from the web using `read_csv` and name it `pulsar_data`"
   ]
  },
  {
   "cell_type": "code",
   "execution_count": 2,
   "id": "575d0637-1337-4661-ba65-aeb9ce1d9fb3",
   "metadata": {
    "tags": []
   },
   "outputs": [],
   "source": [
    "# Import dataset\n",
    "pulsar_data = pd.read_csv(\"https://github.com/Tikio88/Group22_Project/blob/main/data/HTRU_2.csv?raw=true\")"
   ]
  },
  {
   "cell_type": "markdown",
   "id": "a8641f10-863d-4819-a070-33b33b525687",
   "metadata": {},
   "source": [
    "Then, we will add column labels so our data set is easier to understand. We will also edit the `pulsar?` column using the `replace` method to replace the values from `'0'` to `'Noise'` and `'1'` to `'Pulsar'`."
   ]
  },
  {
   "cell_type": "code",
   "execution_count": 3,
   "id": "9efc01be-180c-4848-a2db-343591c9a2b1",
   "metadata": {
    "tags": []
   },
   "outputs": [
    {
     "data": {
      "text/html": [
       "<style type=\"text/css\">\n",
       "</style>\n",
       "<table id=\"T_203e2\">\n",
       "  <caption>Table 1.0: Tidy Pulsar DataFrame</caption>\n",
       "  <thead>\n",
       "    <tr>\n",
       "      <th class=\"blank level0\" >&nbsp;</th>\n",
       "      <th id=\"T_203e2_level0_col0\" class=\"col_heading level0 col0\" >mean_integrated_profile</th>\n",
       "      <th id=\"T_203e2_level0_col1\" class=\"col_heading level0 col1\" >standard_deviation_integrated_profile</th>\n",
       "      <th id=\"T_203e2_level0_col2\" class=\"col_heading level0 col2\" >excess_kurtosis_integrated_profile</th>\n",
       "      <th id=\"T_203e2_level0_col3\" class=\"col_heading level0 col3\" >skewness_integrated_profile</th>\n",
       "      <th id=\"T_203e2_level0_col4\" class=\"col_heading level0 col4\" >mean_dm-snr_curve</th>\n",
       "      <th id=\"T_203e2_level0_col5\" class=\"col_heading level0 col5\" >standard_deviation_dm-snr_curve</th>\n",
       "      <th id=\"T_203e2_level0_col6\" class=\"col_heading level0 col6\" >excess_kurtosis_dm-snr_curve</th>\n",
       "      <th id=\"T_203e2_level0_col7\" class=\"col_heading level0 col7\" >skewness_dm-snr_curve</th>\n",
       "      <th id=\"T_203e2_level0_col8\" class=\"col_heading level0 col8\" >label</th>\n",
       "    </tr>\n",
       "  </thead>\n",
       "  <tbody>\n",
       "    <tr>\n",
       "      <th id=\"T_203e2_level0_row0\" class=\"row_heading level0 row0\" >0</th>\n",
       "      <td id=\"T_203e2_row0_col0\" class=\"data row0 col0\" >102.507812</td>\n",
       "      <td id=\"T_203e2_row0_col1\" class=\"data row0 col1\" >58.882430</td>\n",
       "      <td id=\"T_203e2_row0_col2\" class=\"data row0 col2\" >0.465318</td>\n",
       "      <td id=\"T_203e2_row0_col3\" class=\"data row0 col3\" >-0.515088</td>\n",
       "      <td id=\"T_203e2_row0_col4\" class=\"data row0 col4\" >1.677258</td>\n",
       "      <td id=\"T_203e2_row0_col5\" class=\"data row0 col5\" >14.860146</td>\n",
       "      <td id=\"T_203e2_row0_col6\" class=\"data row0 col6\" >10.576487</td>\n",
       "      <td id=\"T_203e2_row0_col7\" class=\"data row0 col7\" >127.393580</td>\n",
       "      <td id=\"T_203e2_row0_col8\" class=\"data row0 col8\" >Noise</td>\n",
       "    </tr>\n",
       "    <tr>\n",
       "      <th id=\"T_203e2_level0_row1\" class=\"row_heading level0 row1\" >1</th>\n",
       "      <td id=\"T_203e2_row1_col0\" class=\"data row1 col0\" >103.015625</td>\n",
       "      <td id=\"T_203e2_row1_col1\" class=\"data row1 col1\" >39.341649</td>\n",
       "      <td id=\"T_203e2_row1_col2\" class=\"data row1 col2\" >0.323328</td>\n",
       "      <td id=\"T_203e2_row1_col3\" class=\"data row1 col3\" >1.051164</td>\n",
       "      <td id=\"T_203e2_row1_col4\" class=\"data row1 col4\" >3.121237</td>\n",
       "      <td id=\"T_203e2_row1_col5\" class=\"data row1 col5\" >21.744669</td>\n",
       "      <td id=\"T_203e2_row1_col6\" class=\"data row1 col6\" >7.735822</td>\n",
       "      <td id=\"T_203e2_row1_col7\" class=\"data row1 col7\" >63.171909</td>\n",
       "      <td id=\"T_203e2_row1_col8\" class=\"data row1 col8\" >Noise</td>\n",
       "    </tr>\n",
       "    <tr>\n",
       "      <th id=\"T_203e2_level0_row2\" class=\"row_heading level0 row2\" >2</th>\n",
       "      <td id=\"T_203e2_row2_col0\" class=\"data row2 col0\" >136.750000</td>\n",
       "      <td id=\"T_203e2_row2_col1\" class=\"data row2 col1\" >57.178449</td>\n",
       "      <td id=\"T_203e2_row2_col2\" class=\"data row2 col2\" >-0.068415</td>\n",
       "      <td id=\"T_203e2_row2_col3\" class=\"data row2 col3\" >-0.636238</td>\n",
       "      <td id=\"T_203e2_row2_col4\" class=\"data row2 col4\" >3.642977</td>\n",
       "      <td id=\"T_203e2_row2_col5\" class=\"data row2 col5\" >20.959280</td>\n",
       "      <td id=\"T_203e2_row2_col6\" class=\"data row2 col6\" >6.896499</td>\n",
       "      <td id=\"T_203e2_row2_col7\" class=\"data row2 col7\" >53.593661</td>\n",
       "      <td id=\"T_203e2_row2_col8\" class=\"data row2 col8\" >Noise</td>\n",
       "    </tr>\n",
       "    <tr>\n",
       "      <th id=\"T_203e2_level0_row3\" class=\"row_heading level0 row3\" >3</th>\n",
       "      <td id=\"T_203e2_row3_col0\" class=\"data row3 col0\" >88.726562</td>\n",
       "      <td id=\"T_203e2_row3_col1\" class=\"data row3 col1\" >40.672225</td>\n",
       "      <td id=\"T_203e2_row3_col2\" class=\"data row3 col2\" >0.600866</td>\n",
       "      <td id=\"T_203e2_row3_col3\" class=\"data row3 col3\" >1.123492</td>\n",
       "      <td id=\"T_203e2_row3_col4\" class=\"data row3 col4\" >1.178930</td>\n",
       "      <td id=\"T_203e2_row3_col5\" class=\"data row3 col5\" >11.468720</td>\n",
       "      <td id=\"T_203e2_row3_col6\" class=\"data row3 col6\" >14.269573</td>\n",
       "      <td id=\"T_203e2_row3_col7\" class=\"data row3 col7\" >252.567306</td>\n",
       "      <td id=\"T_203e2_row3_col8\" class=\"data row3 col8\" >Noise</td>\n",
       "    </tr>\n",
       "    <tr>\n",
       "      <th id=\"T_203e2_level0_row4\" class=\"row_heading level0 row4\" >4</th>\n",
       "      <td id=\"T_203e2_row4_col0\" class=\"data row4 col0\" >93.570312</td>\n",
       "      <td id=\"T_203e2_row4_col1\" class=\"data row4 col1\" >46.698114</td>\n",
       "      <td id=\"T_203e2_row4_col2\" class=\"data row4 col2\" >0.531905</td>\n",
       "      <td id=\"T_203e2_row4_col3\" class=\"data row4 col3\" >0.416721</td>\n",
       "      <td id=\"T_203e2_row4_col4\" class=\"data row4 col4\" >1.636288</td>\n",
       "      <td id=\"T_203e2_row4_col5\" class=\"data row4 col5\" >14.545074</td>\n",
       "      <td id=\"T_203e2_row4_col6\" class=\"data row4 col6\" >10.621748</td>\n",
       "      <td id=\"T_203e2_row4_col7\" class=\"data row4 col7\" >131.394004</td>\n",
       "      <td id=\"T_203e2_row4_col8\" class=\"data row4 col8\" >Noise</td>\n",
       "    </tr>\n",
       "    <tr>\n",
       "      <th id=\"T_203e2_level0_row5\" class=\"row_heading level0 row5\" >5</th>\n",
       "      <td id=\"T_203e2_row5_col0\" class=\"data row5 col0\" >119.484375</td>\n",
       "      <td id=\"T_203e2_row5_col1\" class=\"data row5 col1\" >48.765059</td>\n",
       "      <td id=\"T_203e2_row5_col2\" class=\"data row5 col2\" >0.031460</td>\n",
       "      <td id=\"T_203e2_row5_col3\" class=\"data row5 col3\" >-0.112168</td>\n",
       "      <td id=\"T_203e2_row5_col4\" class=\"data row5 col4\" >0.999164</td>\n",
       "      <td id=\"T_203e2_row5_col5\" class=\"data row5 col5\" >9.279612</td>\n",
       "      <td id=\"T_203e2_row5_col6\" class=\"data row5 col6\" >19.206230</td>\n",
       "      <td id=\"T_203e2_row5_col7\" class=\"data row5 col7\" >479.756567</td>\n",
       "      <td id=\"T_203e2_row5_col8\" class=\"data row5 col8\" >Noise</td>\n",
       "    </tr>\n",
       "    <tr>\n",
       "      <th id=\"T_203e2_level0_row6\" class=\"row_heading level0 row6\" >6</th>\n",
       "      <td id=\"T_203e2_row6_col0\" class=\"data row6 col0\" >130.382812</td>\n",
       "      <td id=\"T_203e2_row6_col1\" class=\"data row6 col1\" >39.844056</td>\n",
       "      <td id=\"T_203e2_row6_col2\" class=\"data row6 col2\" >-0.158323</td>\n",
       "      <td id=\"T_203e2_row6_col3\" class=\"data row6 col3\" >0.389540</td>\n",
       "      <td id=\"T_203e2_row6_col4\" class=\"data row6 col4\" >1.220736</td>\n",
       "      <td id=\"T_203e2_row6_col5\" class=\"data row6 col5\" >14.378941</td>\n",
       "      <td id=\"T_203e2_row6_col6\" class=\"data row6 col6\" >13.539456</td>\n",
       "      <td id=\"T_203e2_row6_col7\" class=\"data row6 col7\" >198.236457</td>\n",
       "      <td id=\"T_203e2_row6_col8\" class=\"data row6 col8\" >Noise</td>\n",
       "    </tr>\n",
       "    <tr>\n",
       "      <th id=\"T_203e2_level0_row7\" class=\"row_heading level0 row7\" >7</th>\n",
       "      <td id=\"T_203e2_row7_col0\" class=\"data row7 col0\" >107.250000</td>\n",
       "      <td id=\"T_203e2_row7_col1\" class=\"data row7 col1\" >52.627078</td>\n",
       "      <td id=\"T_203e2_row7_col2\" class=\"data row7 col2\" >0.452688</td>\n",
       "      <td id=\"T_203e2_row7_col3\" class=\"data row7 col3\" >0.170347</td>\n",
       "      <td id=\"T_203e2_row7_col4\" class=\"data row7 col4\" >2.331940</td>\n",
       "      <td id=\"T_203e2_row7_col5\" class=\"data row7 col5\" >14.486853</td>\n",
       "      <td id=\"T_203e2_row7_col6\" class=\"data row7 col6\" >9.001004</td>\n",
       "      <td id=\"T_203e2_row7_col7\" class=\"data row7 col7\" >107.972506</td>\n",
       "      <td id=\"T_203e2_row7_col8\" class=\"data row7 col8\" >Noise</td>\n",
       "    </tr>\n",
       "    <tr>\n",
       "      <th id=\"T_203e2_level0_row8\" class=\"row_heading level0 row8\" >8</th>\n",
       "      <td id=\"T_203e2_row8_col0\" class=\"data row8 col0\" >107.257812</td>\n",
       "      <td id=\"T_203e2_row8_col1\" class=\"data row8 col1\" >39.496488</td>\n",
       "      <td id=\"T_203e2_row8_col2\" class=\"data row8 col2\" >0.465882</td>\n",
       "      <td id=\"T_203e2_row8_col3\" class=\"data row8 col3\" >1.162877</td>\n",
       "      <td id=\"T_203e2_row8_col4\" class=\"data row8 col4\" >4.079431</td>\n",
       "      <td id=\"T_203e2_row8_col5\" class=\"data row8 col5\" >24.980418</td>\n",
       "      <td id=\"T_203e2_row8_col6\" class=\"data row8 col6\" >7.397080</td>\n",
       "      <td id=\"T_203e2_row8_col7\" class=\"data row8 col7\" >57.784738</td>\n",
       "      <td id=\"T_203e2_row8_col8\" class=\"data row8 col8\" >Noise</td>\n",
       "    </tr>\n",
       "    <tr>\n",
       "      <th id=\"T_203e2_level0_row9\" class=\"row_heading level0 row9\" >9</th>\n",
       "      <td id=\"T_203e2_row9_col0\" class=\"data row9 col0\" >142.078125</td>\n",
       "      <td id=\"T_203e2_row9_col1\" class=\"data row9 col1\" >45.288073</td>\n",
       "      <td id=\"T_203e2_row9_col2\" class=\"data row9 col2\" >-0.320328</td>\n",
       "      <td id=\"T_203e2_row9_col3\" class=\"data row9 col3\" >0.283953</td>\n",
       "      <td id=\"T_203e2_row9_col4\" class=\"data row9 col4\" >5.376254</td>\n",
       "      <td id=\"T_203e2_row9_col5\" class=\"data row9 col5\" >29.009897</td>\n",
       "      <td id=\"T_203e2_row9_col6\" class=\"data row9 col6\" >6.076266</td>\n",
       "      <td id=\"T_203e2_row9_col7\" class=\"data row9 col7\" >37.831393</td>\n",
       "      <td id=\"T_203e2_row9_col8\" class=\"data row9 col8\" >Noise</td>\n",
       "    </tr>\n",
       "    <tr>\n",
       "      <th id=\"T_203e2_level0_row10\" class=\"row_heading level0 row10\" >10</th>\n",
       "      <td id=\"T_203e2_row10_col0\" class=\"data row10 col0\" >133.257812</td>\n",
       "      <td id=\"T_203e2_row10_col1\" class=\"data row10 col1\" >44.058244</td>\n",
       "      <td id=\"T_203e2_row10_col2\" class=\"data row10 col2\" >-0.081060</td>\n",
       "      <td id=\"T_203e2_row10_col3\" class=\"data row10 col3\" >0.115362</td>\n",
       "      <td id=\"T_203e2_row10_col4\" class=\"data row10 col4\" >1.632107</td>\n",
       "      <td id=\"T_203e2_row10_col5\" class=\"data row10 col5\" >12.007806</td>\n",
       "      <td id=\"T_203e2_row10_col6\" class=\"data row10 col6\" >11.972067</td>\n",
       "      <td id=\"T_203e2_row10_col7\" class=\"data row10 col7\" >195.543448</td>\n",
       "      <td id=\"T_203e2_row10_col8\" class=\"data row10 col8\" >Noise</td>\n",
       "    </tr>\n",
       "    <tr>\n",
       "      <th id=\"T_203e2_level0_row11\" class=\"row_heading level0 row11\" >11</th>\n",
       "      <td id=\"T_203e2_row11_col0\" class=\"data row11 col0\" >134.960938</td>\n",
       "      <td id=\"T_203e2_row11_col1\" class=\"data row11 col1\" >49.554327</td>\n",
       "      <td id=\"T_203e2_row11_col2\" class=\"data row11 col2\" >-0.135304</td>\n",
       "      <td id=\"T_203e2_row11_col3\" class=\"data row11 col3\" >-0.080470</td>\n",
       "      <td id=\"T_203e2_row11_col4\" class=\"data row11 col4\" >10.696488</td>\n",
       "      <td id=\"T_203e2_row11_col5\" class=\"data row11 col5\" >41.342044</td>\n",
       "      <td id=\"T_203e2_row11_col6\" class=\"data row11 col6\" >3.893934</td>\n",
       "      <td id=\"T_203e2_row11_col7\" class=\"data row11 col7\" >14.131206</td>\n",
       "      <td id=\"T_203e2_row11_col8\" class=\"data row11 col8\" >Noise</td>\n",
       "    </tr>\n",
       "    <tr>\n",
       "      <th id=\"T_203e2_level0_row12\" class=\"row_heading level0 row12\" >12</th>\n",
       "      <td id=\"T_203e2_row12_col0\" class=\"data row12 col0\" >117.945312</td>\n",
       "      <td id=\"T_203e2_row12_col1\" class=\"data row12 col1\" >45.506577</td>\n",
       "      <td id=\"T_203e2_row12_col2\" class=\"data row12 col2\" >0.325438</td>\n",
       "      <td id=\"T_203e2_row12_col3\" class=\"data row12 col3\" >0.661459</td>\n",
       "      <td id=\"T_203e2_row12_col4\" class=\"data row12 col4\" >2.836120</td>\n",
       "      <td id=\"T_203e2_row12_col5\" class=\"data row12 col5\" >23.118350</td>\n",
       "      <td id=\"T_203e2_row12_col6\" class=\"data row12 col6\" >8.943212</td>\n",
       "      <td id=\"T_203e2_row12_col7\" class=\"data row12 col7\" >82.475592</td>\n",
       "      <td id=\"T_203e2_row12_col8\" class=\"data row12 col8\" >Noise</td>\n",
       "    </tr>\n",
       "    <tr>\n",
       "      <th id=\"T_203e2_level0_row13\" class=\"row_heading level0 row13\" >13</th>\n",
       "      <td id=\"T_203e2_row13_col0\" class=\"data row13 col0\" >138.179688</td>\n",
       "      <td id=\"T_203e2_row13_col1\" class=\"data row13 col1\" >51.524484</td>\n",
       "      <td id=\"T_203e2_row13_col2\" class=\"data row13 col2\" >-0.031852</td>\n",
       "      <td id=\"T_203e2_row13_col3\" class=\"data row13 col3\" >0.046797</td>\n",
       "      <td id=\"T_203e2_row13_col4\" class=\"data row13 col4\" >6.330268</td>\n",
       "      <td id=\"T_203e2_row13_col5\" class=\"data row13 col5\" >31.576347</td>\n",
       "      <td id=\"T_203e2_row13_col6\" class=\"data row13 col6\" >5.155940</td>\n",
       "      <td id=\"T_203e2_row13_col7\" class=\"data row13 col7\" >26.143310</td>\n",
       "      <td id=\"T_203e2_row13_col8\" class=\"data row13 col8\" >Noise</td>\n",
       "    </tr>\n",
       "    <tr>\n",
       "      <th id=\"T_203e2_level0_row14\" class=\"row_heading level0 row14\" >14</th>\n",
       "      <td id=\"T_203e2_row14_col0\" class=\"data row14 col0\" >114.367188</td>\n",
       "      <td id=\"T_203e2_row14_col1\" class=\"data row14 col1\" >51.945716</td>\n",
       "      <td id=\"T_203e2_row14_col2\" class=\"data row14 col2\" >-0.094499</td>\n",
       "      <td id=\"T_203e2_row14_col3\" class=\"data row14 col3\" >-0.287984</td>\n",
       "      <td id=\"T_203e2_row14_col4\" class=\"data row14 col4\" >2.738294</td>\n",
       "      <td id=\"T_203e2_row14_col5\" class=\"data row14 col5\" >17.191891</td>\n",
       "      <td id=\"T_203e2_row14_col6\" class=\"data row14 col6\" >9.050612</td>\n",
       "      <td id=\"T_203e2_row14_col7\" class=\"data row14 col7\" >96.611903</td>\n",
       "      <td id=\"T_203e2_row14_col8\" class=\"data row14 col8\" >Noise</td>\n",
       "    </tr>\n",
       "    <tr>\n",
       "      <th id=\"T_203e2_level0_row15\" class=\"row_heading level0 row15\" >15</th>\n",
       "      <td id=\"T_203e2_row15_col0\" class=\"data row15 col0\" >109.640625</td>\n",
       "      <td id=\"T_203e2_row15_col1\" class=\"data row15 col1\" >49.017652</td>\n",
       "      <td id=\"T_203e2_row15_col2\" class=\"data row15 col2\" >0.137636</td>\n",
       "      <td id=\"T_203e2_row15_col3\" class=\"data row15 col3\" >-0.256700</td>\n",
       "      <td id=\"T_203e2_row15_col4\" class=\"data row15 col4\" >1.508361</td>\n",
       "      <td id=\"T_203e2_row15_col5\" class=\"data row15 col5\" >12.072901</td>\n",
       "      <td id=\"T_203e2_row15_col6\" class=\"data row15 col6\" >13.367926</td>\n",
       "      <td id=\"T_203e2_row15_col7\" class=\"data row15 col7\" >223.438419</td>\n",
       "      <td id=\"T_203e2_row15_col8\" class=\"data row15 col8\" >Noise</td>\n",
       "    </tr>\n",
       "    <tr>\n",
       "      <th id=\"T_203e2_level0_row16\" class=\"row_heading level0 row16\" >16</th>\n",
       "      <td id=\"T_203e2_row16_col0\" class=\"data row16 col0\" >100.851562</td>\n",
       "      <td id=\"T_203e2_row16_col1\" class=\"data row16 col1\" >51.743522</td>\n",
       "      <td id=\"T_203e2_row16_col2\" class=\"data row16 col2\" >0.393837</td>\n",
       "      <td id=\"T_203e2_row16_col3\" class=\"data row16 col3\" >-0.011241</td>\n",
       "      <td id=\"T_203e2_row16_col4\" class=\"data row16 col4\" >2.841137</td>\n",
       "      <td id=\"T_203e2_row16_col5\" class=\"data row16 col5\" >21.635778</td>\n",
       "      <td id=\"T_203e2_row16_col6\" class=\"data row16 col6\" >8.302242</td>\n",
       "      <td id=\"T_203e2_row16_col7\" class=\"data row16 col7\" >71.584369</td>\n",
       "      <td id=\"T_203e2_row16_col8\" class=\"data row16 col8\" >Noise</td>\n",
       "    </tr>\n",
       "    <tr>\n",
       "      <th id=\"T_203e2_level0_row17\" class=\"row_heading level0 row17\" >17</th>\n",
       "      <td id=\"T_203e2_row17_col0\" class=\"data row17 col0\" >136.093750</td>\n",
       "      <td id=\"T_203e2_row17_col1\" class=\"data row17 col1\" >51.691005</td>\n",
       "      <td id=\"T_203e2_row17_col2\" class=\"data row17 col2\" >-0.045909</td>\n",
       "      <td id=\"T_203e2_row17_col3\" class=\"data row17 col3\" >-0.271816</td>\n",
       "      <td id=\"T_203e2_row17_col4\" class=\"data row17 col4\" >9.342809</td>\n",
       "      <td id=\"T_203e2_row17_col5\" class=\"data row17 col5\" >38.096400</td>\n",
       "      <td id=\"T_203e2_row17_col6\" class=\"data row17 col6\" >4.345438</td>\n",
       "      <td id=\"T_203e2_row17_col7\" class=\"data row17 col7\" >18.673649</td>\n",
       "      <td id=\"T_203e2_row17_col8\" class=\"data row17 col8\" >Noise</td>\n",
       "    </tr>\n",
       "    <tr>\n",
       "      <th id=\"T_203e2_level0_row18\" class=\"row_heading level0 row18\" >18</th>\n",
       "      <td id=\"T_203e2_row18_col0\" class=\"data row18 col0\" >99.367188</td>\n",
       "      <td id=\"T_203e2_row18_col1\" class=\"data row18 col1\" >41.572202</td>\n",
       "      <td id=\"T_203e2_row18_col2\" class=\"data row18 col2\" >1.547197</td>\n",
       "      <td id=\"T_203e2_row18_col3\" class=\"data row18 col3\" >4.154106</td>\n",
       "      <td id=\"T_203e2_row18_col4\" class=\"data row18 col4\" >27.555184</td>\n",
       "      <td id=\"T_203e2_row18_col5\" class=\"data row18 col5\" >61.719016</td>\n",
       "      <td id=\"T_203e2_row18_col6\" class=\"data row18 col6\" >2.208808</td>\n",
       "      <td id=\"T_203e2_row18_col7\" class=\"data row18 col7\" >3.662680</td>\n",
       "      <td id=\"T_203e2_row18_col8\" class=\"data row18 col8\" >Pulsar</td>\n",
       "    </tr>\n",
       "    <tr>\n",
       "      <th id=\"T_203e2_level0_row19\" class=\"row_heading level0 row19\" >19</th>\n",
       "      <td id=\"T_203e2_row19_col0\" class=\"data row19 col0\" >100.890625</td>\n",
       "      <td id=\"T_203e2_row19_col1\" class=\"data row19 col1\" >51.890394</td>\n",
       "      <td id=\"T_203e2_row19_col2\" class=\"data row19 col2\" >0.627487</td>\n",
       "      <td id=\"T_203e2_row19_col3\" class=\"data row19 col3\" >-0.026498</td>\n",
       "      <td id=\"T_203e2_row19_col4\" class=\"data row19 col4\" >3.883779</td>\n",
       "      <td id=\"T_203e2_row19_col5\" class=\"data row19 col5\" >23.045267</td>\n",
       "      <td id=\"T_203e2_row19_col6\" class=\"data row19 col6\" >6.953168</td>\n",
       "      <td id=\"T_203e2_row19_col7\" class=\"data row19 col7\" >52.279440</td>\n",
       "      <td id=\"T_203e2_row19_col8\" class=\"data row19 col8\" >Noise</td>\n",
       "    </tr>\n",
       "  </tbody>\n",
       "</table>\n"
      ],
      "text/plain": [
       "<pandas.io.formats.style.Styler at 0x7f17e74779d0>"
      ]
     },
     "execution_count": 3,
     "metadata": {},
     "output_type": "execute_result"
    }
   ],
   "source": [
    "# Add column names\n",
    "pulsar_data.columns = [\"mean_integrated_profile\", \n",
    "                       \"standard_deviation_integrated_profile\", \n",
    "                       \"excess_kurtosis_integrated_profile\", \n",
    "                       \"skewness_integrated_profile\", \n",
    "                       \"mean_dm-snr_curve\", \n",
    "                       \"standard_deviation_dm-snr_curve\",\n",
    "                       \"excess_kurtosis_dm-snr_curve\",\n",
    "                       \"skewness_dm-snr_curve\",\n",
    "                       \"label\"]\n",
    "\n",
    "# make \"pulsar?\" column variable more readable for analysis\n",
    "pulsar_data[\"label\"] = pulsar_data[\"label\"].replace({0: \"Noise\", 1:\"Pulsar\"})\n",
    "\n",
    "pulsar_data.head(20).style.set_caption(\"Table 1.0: Tidy Pulsar DataFrame\")"
   ]
  },
  {
   "cell_type": "markdown",
   "id": "60846fb7-0ab2-473b-92fa-cf01f13f0efe",
   "metadata": {},
   "source": [
    "Once the data has been imported, it is important to confirm whether the data is tidy, otherwise we could run into errors further down in our analysis.\n",
    "\n",
    "Visually, we can see that the `pulsar_data` dataframe fulfills the three pillars of being tidy data. \n",
    "1. each row is a single observation\n",
    "2. each column is a single variable, and \n",
    "3. each value is a single cell.\n",
    "\n",
    "Finally, we will confirm whether there are any empty cells in our dataframe. "
   ]
  },
  {
   "cell_type": "code",
   "execution_count": 4,
   "id": "9fda088b-01d8-4130-b51b-749f72a6bfbf",
   "metadata": {
    "tags": []
   },
   "outputs": [
    {
     "data": {
      "text/plain": [
       "0"
      ]
     },
     "execution_count": 4,
     "metadata": {},
     "output_type": "execute_result"
    }
   ],
   "source": [
    "# Confirms that no cells are empty. \n",
    "\n",
    "pulsar_data.isnull().sum().sum()"
   ]
  },
  {
   "cell_type": "markdown",
   "id": "9e2bbb51-3722-4cc3-9d8b-59350428e046",
   "metadata": {},
   "source": [
    "#comment"
   ]
  },
  {
   "cell_type": "code",
   "execution_count": 5,
   "id": "2656ef86-efa8-4c86-82ee-ae6f322176de",
   "metadata": {
    "tags": []
   },
   "outputs": [
    {
     "data": {
      "text/html": [
       "<style type=\"text/css\">\n",
       "</style>\n",
       "<table id=\"T_85bfc\">\n",
       "  <caption>Table 1.1: Label Count</caption>\n",
       "  <thead>\n",
       "    <tr>\n",
       "      <th class=\"blank level0\" >&nbsp;</th>\n",
       "      <th id=\"T_85bfc_level0_col0\" class=\"col_heading level0 col0\" >count</th>\n",
       "    </tr>\n",
       "  </thead>\n",
       "  <tbody>\n",
       "    <tr>\n",
       "      <th id=\"T_85bfc_level0_row0\" class=\"row_heading level0 row0\" >Noise</th>\n",
       "      <td id=\"T_85bfc_row0_col0\" class=\"data row0 col0\" >16258</td>\n",
       "    </tr>\n",
       "    <tr>\n",
       "      <th id=\"T_85bfc_level0_row1\" class=\"row_heading level0 row1\" >Pulsar</th>\n",
       "      <td id=\"T_85bfc_row1_col0\" class=\"data row1 col0\" >1639</td>\n",
       "    </tr>\n",
       "  </tbody>\n",
       "</table>\n"
      ],
      "text/plain": [
       "<pandas.io.formats.style.Styler at 0x7f17e74778e0>"
      ]
     },
     "execution_count": 5,
     "metadata": {},
     "output_type": "execute_result"
    }
   ],
   "source": [
    "#  Count the amount of pulsar examples and the amount of noise examples in our data. \n",
    "\n",
    "pulsar_data_count = pulsar_data[\"label\"].value_counts().to_frame()\n",
    "pulsar_data_count.columns = [\"count\"]\n",
    "pulsar_data_count.style.set_caption(\"Table 1.1: Label Count\")"
   ]
  },
  {
   "cell_type": "code",
   "execution_count": 6,
   "id": "5c1e11b4-f2d4-425f-9283-e11ddf318950",
   "metadata": {
    "tags": []
   },
   "outputs": [
    {
     "data": {
      "text/html": [
       "<style type=\"text/css\">\n",
       "</style>\n",
       "<table id=\"T_44dbd\">\n",
       "  <caption>Table 1.2: Label Count by Percentage</caption>\n",
       "  <thead>\n",
       "    <tr>\n",
       "      <th class=\"blank level0\" >&nbsp;</th>\n",
       "      <th id=\"T_44dbd_level0_col0\" class=\"col_heading level0 col0\" >percentage</th>\n",
       "    </tr>\n",
       "  </thead>\n",
       "  <tbody>\n",
       "    <tr>\n",
       "      <th id=\"T_44dbd_level0_row0\" class=\"row_heading level0 row0\" >Noise</th>\n",
       "      <td id=\"T_44dbd_row0_col0\" class=\"data row0 col0\" >90.842041</td>\n",
       "    </tr>\n",
       "    <tr>\n",
       "      <th id=\"T_44dbd_level0_row1\" class=\"row_heading level0 row1\" >Pulsar</th>\n",
       "      <td id=\"T_44dbd_row1_col0\" class=\"data row1 col0\" >9.157959</td>\n",
       "    </tr>\n",
       "  </tbody>\n",
       "</table>\n"
      ],
      "text/plain": [
       "<pandas.io.formats.style.Styler at 0x7f1824349a20>"
      ]
     },
     "execution_count": 6,
     "metadata": {},
     "output_type": "execute_result"
    }
   ],
   "source": [
    "# Provide the percentage between the amount of pulsar examples and noise examples in our data. \n",
    "\n",
    "pulsar_data_percentage = pulsar_data[\"label\"].value_counts(normalize=True).to_frame()\n",
    "pulsar_data_percentage.columns = [\"percentage\"]\n",
    "pulsar_data_percentage[\"percentage\"] = pulsar_data_percentage[\"percentage\"] * 100\n",
    "pulsar_data_percentage.style.set_caption(\"Table 1.2: Label Count by Percentage\")"
   ]
  },
  {
   "cell_type": "markdown",
   "id": "7deb04c5-9fa6-45f9-91e6-b2618a09c57e",
   "metadata": {
    "tags": []
   },
   "source": [
    "Now, let us complete an analysis on the variables that we may use in classifying whether we have found a pulsar."
   ]
  },
  {
   "cell_type": "code",
   "execution_count": 7,
   "id": "506a09ae-b8ee-465d-b6cd-69183d0072e7",
   "metadata": {
    "tags": []
   },
   "outputs": [
    {
     "data": {
      "text/html": [
       "<div>\n",
       "<style scoped>\n",
       "    .dataframe tbody tr th:only-of-type {\n",
       "        vertical-align: middle;\n",
       "    }\n",
       "\n",
       "    .dataframe tbody tr th {\n",
       "        vertical-align: top;\n",
       "    }\n",
       "\n",
       "    .dataframe thead th {\n",
       "        text-align: right;\n",
       "    }\n",
       "</style>\n",
       "<table border=\"1\" class=\"dataframe\">\n",
       "  <thead>\n",
       "    <tr style=\"text-align: right;\">\n",
       "      <th></th>\n",
       "      <th>mean_integrated_profile</th>\n",
       "      <th>standard_deviation_integrated_profile</th>\n",
       "      <th>excess_kurtosis_integrated_profile</th>\n",
       "      <th>skewness_integrated_profile</th>\n",
       "      <th>mean_dm-snr_curve</th>\n",
       "      <th>standard_deviation_dm-snr_curve</th>\n",
       "      <th>excess_kurtosis_dm-snr_curve</th>\n",
       "      <th>skewness_dm-snr_curve</th>\n",
       "    </tr>\n",
       "  </thead>\n",
       "  <tbody>\n",
       "    <tr>\n",
       "      <th>count</th>\n",
       "      <td>17897.000000</td>\n",
       "      <td>17897.000000</td>\n",
       "      <td>17897.000000</td>\n",
       "      <td>17897.000000</td>\n",
       "      <td>17897.000000</td>\n",
       "      <td>17897.000000</td>\n",
       "      <td>17897.000000</td>\n",
       "      <td>17897.000000</td>\n",
       "    </tr>\n",
       "    <tr>\n",
       "      <th>mean</th>\n",
       "      <td>111.078321</td>\n",
       "      <td>46.549021</td>\n",
       "      <td>0.477897</td>\n",
       "      <td>1.770417</td>\n",
       "      <td>12.614926</td>\n",
       "      <td>26.326918</td>\n",
       "      <td>8.303574</td>\n",
       "      <td>104.859419</td>\n",
       "    </tr>\n",
       "    <tr>\n",
       "      <th>std</th>\n",
       "      <td>25.652705</td>\n",
       "      <td>6.843040</td>\n",
       "      <td>1.064056</td>\n",
       "      <td>6.168058</td>\n",
       "      <td>29.473637</td>\n",
       "      <td>19.471042</td>\n",
       "      <td>4.506217</td>\n",
       "      <td>106.517270</td>\n",
       "    </tr>\n",
       "    <tr>\n",
       "      <th>min</th>\n",
       "      <td>5.812500</td>\n",
       "      <td>24.772042</td>\n",
       "      <td>-1.876011</td>\n",
       "      <td>-1.791886</td>\n",
       "      <td>0.213211</td>\n",
       "      <td>7.370432</td>\n",
       "      <td>-3.139270</td>\n",
       "      <td>-1.976976</td>\n",
       "    </tr>\n",
       "    <tr>\n",
       "      <th>25%</th>\n",
       "      <td>100.929688</td>\n",
       "      <td>42.375426</td>\n",
       "      <td>0.027108</td>\n",
       "      <td>-0.188528</td>\n",
       "      <td>1.923077</td>\n",
       "      <td>14.437330</td>\n",
       "      <td>5.781485</td>\n",
       "      <td>34.957119</td>\n",
       "    </tr>\n",
       "    <tr>\n",
       "      <th>50%</th>\n",
       "      <td>115.078125</td>\n",
       "      <td>46.946435</td>\n",
       "      <td>0.223241</td>\n",
       "      <td>0.198736</td>\n",
       "      <td>2.801839</td>\n",
       "      <td>18.459977</td>\n",
       "      <td>8.433872</td>\n",
       "      <td>83.068996</td>\n",
       "    </tr>\n",
       "    <tr>\n",
       "      <th>75%</th>\n",
       "      <td>127.085938</td>\n",
       "      <td>51.022887</td>\n",
       "      <td>0.473349</td>\n",
       "      <td>0.928206</td>\n",
       "      <td>5.464883</td>\n",
       "      <td>28.428152</td>\n",
       "      <td>10.702973</td>\n",
       "      <td>139.310905</td>\n",
       "    </tr>\n",
       "    <tr>\n",
       "      <th>max</th>\n",
       "      <td>192.617188</td>\n",
       "      <td>98.778911</td>\n",
       "      <td>8.069522</td>\n",
       "      <td>68.101622</td>\n",
       "      <td>223.392141</td>\n",
       "      <td>110.642211</td>\n",
       "      <td>34.539844</td>\n",
       "      <td>1191.000837</td>\n",
       "    </tr>\n",
       "  </tbody>\n",
       "</table>\n",
       "</div>"
      ],
      "text/plain": [
       "       mean_integrated_profile  standard_deviation_integrated_profile  \\\n",
       "count             17897.000000                           17897.000000   \n",
       "mean                111.078321                              46.549021   \n",
       "std                  25.652705                               6.843040   \n",
       "min                   5.812500                              24.772042   \n",
       "25%                 100.929688                              42.375426   \n",
       "50%                 115.078125                              46.946435   \n",
       "75%                 127.085938                              51.022887   \n",
       "max                 192.617188                              98.778911   \n",
       "\n",
       "       excess_kurtosis_integrated_profile  skewness_integrated_profile  \\\n",
       "count                        17897.000000                 17897.000000   \n",
       "mean                             0.477897                     1.770417   \n",
       "std                              1.064056                     6.168058   \n",
       "min                             -1.876011                    -1.791886   \n",
       "25%                              0.027108                    -0.188528   \n",
       "50%                              0.223241                     0.198736   \n",
       "75%                              0.473349                     0.928206   \n",
       "max                              8.069522                    68.101622   \n",
       "\n",
       "       mean_dm-snr_curve  standard_deviation_dm-snr_curve  \\\n",
       "count       17897.000000                     17897.000000   \n",
       "mean           12.614926                        26.326918   \n",
       "std            29.473637                        19.471042   \n",
       "min             0.213211                         7.370432   \n",
       "25%             1.923077                        14.437330   \n",
       "50%             2.801839                        18.459977   \n",
       "75%             5.464883                        28.428152   \n",
       "max           223.392141                       110.642211   \n",
       "\n",
       "       excess_kurtosis_dm-snr_curve  skewness_dm-snr_curve  \n",
       "count                  17897.000000           17897.000000  \n",
       "mean                       8.303574             104.859419  \n",
       "std                        4.506217             106.517270  \n",
       "min                       -3.139270              -1.976976  \n",
       "25%                        5.781485              34.957119  \n",
       "50%                        8.433872              83.068996  \n",
       "75%                       10.702973             139.310905  \n",
       "max                       34.539844            1191.000837  "
      ]
     },
     "execution_count": 7,
     "metadata": {},
     "output_type": "execute_result"
    }
   ],
   "source": [
    "pulsar_data.loc[:, :\"skewness_dm-snr_curve\"].describe()"
   ]
  },
  {
   "cell_type": "markdown",
   "id": "fc881a17-28a8-47e4-9a07-0ee3007cc15d",
   "metadata": {},
   "source": [
    "As an exploratory visualization of the data, we created a graph comparing the Skewness of the integrated profile (y-axis) to the Excess kurtosis of the integrated profile (x-axis). We also coloured the pulsar and noise examples to be able to determine if we can obtain any information on when we have a pulsar, or when it is noise. Based on the graph, we found that lower values of the Skewness of the integrated profile and of the Excess kurtosis of the integrated profile are typically noise, while pulsars typically have larger values. From the visualization of our graph and tables 1.1 and 1.2, we were able to determine that we have an imbalance between the number of Noise and Pulsar Labels. "
   ]
  },
  {
   "cell_type": "code",
   "execution_count": 8,
   "id": "c2fd2030-9275-4663-a6cb-d0c4120681b6",
   "metadata": {
    "tags": []
   },
   "outputs": [
    {
     "ename": "TypeError",
     "evalue": "'UndefinedType' object is not callable",
     "output_type": "error",
     "traceback": [
      "\u001b[0;31m---------------------------------------------------------------------------\u001b[0m",
      "\u001b[0;31mTypeError\u001b[0m                                 Traceback (most recent call last)",
      "Cell \u001b[0;32mIn[8], line 3\u001b[0m\n\u001b[1;32m      1\u001b[0m \u001b[38;5;66;03m# Create the graph to visualize our data.\u001b[39;00m\n\u001b[1;32m      2\u001b[0m pulsar_plot \u001b[38;5;241m=\u001b[39m alt\u001b[38;5;241m.\u001b[39mChart(pulsar_data\u001b[38;5;241m.\u001b[39msample(n\u001b[38;5;241m=\u001b[39m\u001b[38;5;241m2000\u001b[39m))\u001b[38;5;241m.\u001b[39mmark_circle(opacity\u001b[38;5;241m=\u001b[39m\u001b[38;5;241m0.4\u001b[39m)\u001b[38;5;241m.\u001b[39mencode(\n\u001b[0;32m----> 3\u001b[0m     x\u001b[38;5;241m=\u001b[39m\u001b[43malt\u001b[49m\u001b[38;5;241;43m.\u001b[39;49m\u001b[43mX\u001b[49m\u001b[43m(\u001b[49m\u001b[38;5;124;43m\"\u001b[39;49m\u001b[38;5;124;43mexcess_kurtosis_dm-snr_curve\u001b[39;49m\u001b[38;5;124;43m\"\u001b[39;49m\u001b[43m)\u001b[49m\u001b[38;5;241;43m.\u001b[39;49m\u001b[43mtitle\u001b[49m\u001b[43m(\u001b[49m\u001b[38;5;124;43m\"\u001b[39;49m\u001b[38;5;124;43mExcess kurtosis of the integrated profile\u001b[39;49m\u001b[38;5;124;43m\"\u001b[39;49m\u001b[43m)\u001b[49m,\n\u001b[1;32m      4\u001b[0m     y\u001b[38;5;241m=\u001b[39malt\u001b[38;5;241m.\u001b[39mY(\u001b[38;5;124m\"\u001b[39m\u001b[38;5;124mskewness_integrated_profile\u001b[39m\u001b[38;5;124m\"\u001b[39m)\u001b[38;5;241m.\u001b[39mtitle(\u001b[38;5;124m\"\u001b[39m\u001b[38;5;124mSkewness of the integrated profile\u001b[39m\u001b[38;5;124m\"\u001b[39m),\n\u001b[1;32m      5\u001b[0m     color\u001b[38;5;241m=\u001b[39malt\u001b[38;5;241m.\u001b[39mColor(\u001b[38;5;124m\"\u001b[39m\u001b[38;5;124mlabel\u001b[39m\u001b[38;5;124m\"\u001b[39m)\u001b[38;5;241m.\u001b[39mtitle(\u001b[38;5;124m\"\u001b[39m\u001b[38;5;124mlabel\u001b[39m\u001b[38;5;124m\"\u001b[39m)\n\u001b[1;32m      6\u001b[0m )\n\u001b[1;32m      7\u001b[0m pulsar_plot\n",
      "\u001b[0;31mTypeError\u001b[0m: 'UndefinedType' object is not callable"
     ]
    }
   ],
   "source": [
    "# Create the graph to visualize our data.\n",
    "pulsar_plot = alt.Chart(pulsar_data.sample(n=2000)).mark_circle(opacity=0.4).encode(\n",
    "    x=alt.X(\"excess_kurtosis_dm-snr_curve\").title(\"Excess kurtosis of the integrated profile\"),\n",
    "    y=alt.Y(\"skewness_integrated_profile\").title(\"Skewness of the integrated profile\"),\n",
    "    color=alt.Color(\"label\").title(\"label\")\n",
    ")\n",
    "pulsar_plot"
   ]
  },
  {
   "cell_type": "markdown",
   "id": "e553784c-d071-4a02-8de4-cc6817e35ba7",
   "metadata": {},
   "source": [
    "<h2>Preprocessing The Data</h2"
   ]
  },
  {
   "cell_type": "markdown",
   "id": "6a474b93-33e7-4e47-b108-fcae78098807",
   "metadata": {},
   "source": [
    "When reviewing our data we see that the amount of labels classified as Noise is much greater than the amount of confirmed Pulsars. This issue is called <b>class imbalance</b>.  Since classifiers like the \n",
    "K-nearest neighbor algorithm use the labels of nearby points to predict the label of a new point, if there are many more data points with one label overall, such as in our `pulsar_data`, the algorithm is more likely to pick that label in general. Therefore, we rebalanced the data by oversampling the rare label. "
   ]
  },
  {
   "cell_type": "code",
   "execution_count": 9,
   "id": "3d49aae6-020c-4afb-8fde-bb8f62763f53",
   "metadata": {
    "tags": []
   },
   "outputs": [
    {
     "data": {
      "text/html": [
       "<style type=\"text/css\">\n",
       "</style>\n",
       "<table id=\"T_307a3\">\n",
       "  <caption>Table 1.3: Label Count After Oversampling</caption>\n",
       "  <thead>\n",
       "    <tr>\n",
       "      <th class=\"blank level0\" >&nbsp;</th>\n",
       "      <th id=\"T_307a3_level0_col0\" class=\"col_heading level0 col0\" >label</th>\n",
       "    </tr>\n",
       "  </thead>\n",
       "  <tbody>\n",
       "    <tr>\n",
       "      <th id=\"T_307a3_level0_row0\" class=\"row_heading level0 row0\" >Pulsar</th>\n",
       "      <td id=\"T_307a3_row0_col0\" class=\"data row0 col0\" >16258</td>\n",
       "    </tr>\n",
       "    <tr>\n",
       "      <th id=\"T_307a3_level0_row1\" class=\"row_heading level0 row1\" >Noise</th>\n",
       "      <td id=\"T_307a3_row1_col0\" class=\"data row1 col0\" >16258</td>\n",
       "    </tr>\n",
       "  </tbody>\n",
       "</table>\n"
      ],
      "text/plain": [
       "<pandas.io.formats.style.Styler at 0x7f17e5ac7eb0>"
      ]
     },
     "execution_count": 9,
     "metadata": {},
     "output_type": "execute_result"
    }
   ],
   "source": [
    "## columns to be used for integrated training\n",
    "integrated_columns=[\"mean_integrated_profile\", \n",
    "                        \"standard_deviation_integrated_profile\", \n",
    "                        \"excess_kurtosis_integrated_profile\",\n",
    "                        \"skewness_integrated_profile\"] \n",
    "\n",
    "## columns to be used for snr training\n",
    "snr_columns=[\"mean_dm-snr_curve\", \n",
    "                        \"standard_deviation_dm-snr_curve\", \n",
    "                        \"excess_kurtosis_dm-snr_curve\",\n",
    "                        \"skewness_dm-snr_curve\"]\n",
    "\n",
    "\n",
    "\n",
    "pulsar_data.columns = [\"mean_integrated_profile\", \n",
    "                       \"standard_deviation_integrated_profile\", \n",
    "                       \"excess_kurtosis_integrated_profile\", \n",
    "                       \"skewness_integrated_profile\", \n",
    "                       \"mean_dm-snr_curve\", \n",
    "                       \"standard_deviation_dm-snr_curve\",\n",
    "                       \"excess_kurtosis_dm-snr_curve\",\n",
    "                       \"skewness_dm-snr_curve\",\n",
    "                       \"label\"]\n",
    "\n",
    "# make \"pulsar?\" column variable more readable for analysis\n",
    "pulsar_data[\"label\"] = pulsar_data[\"label\"].replace({0: \"Noise\", 1:\"Pulsar\"})\n",
    "\n",
    "\n",
    "\n",
    "noise_label = pulsar_data[pulsar_data[\"label\"] == \"Noise\"]\n",
    "pulsar_label = pulsar_data[pulsar_data[\"label\"] == \"Pulsar\"]\n",
    "pulsar_label_upsample = resample(\n",
    "    pulsar_label, n_samples=noise_label.shape[0]\n",
    ")\n",
    "\n",
    "upsampled_pulsar_data = pd.concat((pulsar_label_upsample, noise_label))\n",
    "upsampled_pulsar_data['label'].value_counts().to_frame().style.set_caption(\"Table 1.3: Label Count After Oversampling\")"
   ]
  },
  {
   "cell_type": "markdown",
   "id": "ebe6b158-f71a-47ef-bfd2-f657cfa3c830",
   "metadata": {
    "tags": []
   },
   "source": [
    "Once the class imbalance has been corrected, we finalized preprocessing our data by standardizing the data. We did this for the `integrated_profile` and the `dm_snr_curve` data independently to be able to verify if there are any differences if we use one or the other to classify our data."
   ]
  },
  {
   "cell_type": "code",
   "execution_count": 10,
   "id": "7bfb3a33-3c30-4dc0-a5f1-199f23528e65",
   "metadata": {
    "tags": []
   },
   "outputs": [],
   "source": [
    "## integrated preprocessor\n",
    "polestar_preprocessor_integrated = make_column_transformer(\n",
    "    (StandardScaler(), integrated_columns),)\n",
    "\n",
    "## snr preprocessor\n",
    "polestar_preprocessor_snr = make_column_transformer(\n",
    "    (StandardScaler(), snr_columns),)\n",
    "\n"
   ]
  },
  {
   "cell_type": "markdown",
   "id": "e1769af5-24e5-4579-9395-f4195ada8033",
   "metadata": {},
   "source": [
    "<h2>Optimizing the Algorithm</h2>"
   ]
  },
  {
   "cell_type": "markdown",
   "id": "afc2d70a-fa83-4520-abb6-3345196a239f",
   "metadata": {},
   "source": [
    "Upon completing the preprocessing step for the data, we began the process to utilize the data. Our k nearest neighbour (knn) gets initialized unspecified, to be used when we create the pipelines for the integrated profile and the dm-snr curve data columns. The parameter grid is then initialized to be used in the `GridSearchCV` function that will be used to identify the best value of our nearest neighbour. We chose the range of our parameter grid to go from 1 to 12, with steps of 1, to be able to evaluate the optimal value of our knn."
   ]
  },
  {
   "cell_type": "code",
   "execution_count": 11,
   "id": "399d4bde-477a-48cc-9740-b2db9bfa1d7a",
   "metadata": {},
   "outputs": [],
   "source": [
    "## kNeighborsClassifier we will use in the future in gridSearchCV\n",
    "knn = KNeighborsClassifier()\n",
    "\n",
    "## making the integrated pipeline with integrated preprocessor and the standard knn\n",
    "polestar_integrated_pipe = make_pipeline(polestar_preprocessor_integrated, knn)\n",
    "\n",
    "## making the snr pipeline with snr preprocessor and the standard knn\n",
    "polestar_snr_pipe = make_pipeline(polestar_preprocessor_snr, knn)\n",
    "\n",
    "\n",
    "## these are the values of n we will use in the future, starting at 1, going up to 12 in steps of 1.\n",
    "parameter_grid = {\n",
    "    \"kneighborsclassifier__n_neighbors\": range(1, 12, 1),\n",
    "}"
   ]
  },
  {
   "cell_type": "markdown",
   "id": "71051dd0-d5a2-4b59-95ce-7afda1eb97a3",
   "metadata": {},
   "source": [
    "## Setting Up Gridsearch:\n",
    "The following code creates two tune grids, one for the Integrated profile and one for the snr profile. Even though it may at first seem like too much to use 10 cuts, considering after the balancing our 16258 points of both noise and pulsar entries, we consider it to be a good balance between performance and accuracy. We then create 2 variables, `accuracies_grid_integrated` and `accuracies_grid_snr` which consist of columns from all the test results, and which n parameter we used, as well as mean, standard deviation, and a couple other statistics. For our process we will only use the n neighbors and `mean_test_score` columns to get an idea of which n gives us the best evaluation performance score."
   ]
  },
  {
   "cell_type": "code",
   "execution_count": 12,
   "id": "4e169595-f708-41bd-8ca2-524cf1f6435a",
   "metadata": {
    "tags": []
   },
   "outputs": [],
   "source": [
    "## setting up the grid search for integrated, with 10 cuts.\n",
    "integrated_tune_grid = GridSearchCV(\n",
    "    estimator=polestar_integrated_pipe,\n",
    "    param_grid=parameter_grid,\n",
    "    cv=10\n",
    ")\n",
    "\n",
    "\n",
    "## setting up the grid search for snr, with 10 cuts.\n",
    "snr_tune_grid = GridSearchCV(\n",
    "    estimator=polestar_snr_pipe,\n",
    "    param_grid=parameter_grid,\n",
    "    cv=10\n",
    ")\n",
    "\n",
    "## performing the grid search and fit for integrated\n",
    "accuracies_grid_integrated = pd.DataFrame(\n",
    "    integrated_tune_grid.fit(\n",
    "        upsampled_pulsar_data[integrated_columns],\n",
    "        upsampled_pulsar_data[\"label\"]\n",
    "    ).cv_results_\n",
    ")\n",
    "\n",
    "## performing the grid search and fit for snr\n",
    "accuracies_grid_snr = pd.DataFrame(\n",
    "    snr_tune_grid.fit(\n",
    "        upsampled_pulsar_data[snr_columns],\n",
    "        upsampled_pulsar_data[\"label\"]\n",
    "    ).cv_results_\n",
    ")"
   ]
  },
  {
   "cell_type": "markdown",
   "id": "eb897290-4a4a-4370-a807-16c602687ff3",
   "metadata": {},
   "source": [
    "## Graphing our Findings:\n",
    "We first add another column to `accuracies_grid_integrated` and `accuracies_grid_snr` indicating whether we're looking at the integrated mean, or the snr mean. We later use this in the color section of `mark_line` as the titles for the blue and orange graphs as can be seen below. We use a `mark_line` since we're trying to see a trend between the different n values which in this case is decreasing starting from n=1."
   ]
  },
  {
   "cell_type": "code",
   "execution_count": 13,
   "id": "35f8f0ee-3c22-4278-9c34-470c2365c8f7",
   "metadata": {
    "tags": []
   },
   "outputs": [
    {
     "ename": "TypeError",
     "evalue": "'UndefinedType' object is not callable",
     "output_type": "error",
     "traceback": [
      "\u001b[0;31m---------------------------------------------------------------------------\u001b[0m",
      "\u001b[0;31mTypeError\u001b[0m                                 Traceback (most recent call last)",
      "Cell \u001b[0;32mIn[13], line 5\u001b[0m\n\u001b[1;32m      1\u001b[0m accuracies_grid_integrated[\u001b[38;5;124m'\u001b[39m\u001b[38;5;124mmodel\u001b[39m\u001b[38;5;124m'\u001b[39m] \u001b[38;5;241m=\u001b[39m \u001b[38;5;124m'\u001b[39m\u001b[38;5;124mIntegrated mean\u001b[39m\u001b[38;5;124m'\u001b[39m\n\u001b[1;32m      2\u001b[0m accuracies_grid_snr[\u001b[38;5;124m'\u001b[39m\u001b[38;5;124mmodel\u001b[39m\u001b[38;5;124m'\u001b[39m] \u001b[38;5;241m=\u001b[39m \u001b[38;5;124m'\u001b[39m\u001b[38;5;124mSNR mean\u001b[39m\u001b[38;5;124m'\u001b[39m\n\u001b[1;32m      4\u001b[0m accuracy_vs_k_integrated \u001b[38;5;241m=\u001b[39m alt\u001b[38;5;241m.\u001b[39mChart(accuracies_grid_integrated, title\u001b[38;5;241m=\u001b[39m\u001b[38;5;124m\"\u001b[39m\u001b[38;5;124mn vs mean\u001b[39m\u001b[38;5;124m\"\u001b[39m)\u001b[38;5;241m.\u001b[39mmark_line(point\u001b[38;5;241m=\u001b[39m\u001b[38;5;28;01mTrue\u001b[39;00m)\u001b[38;5;241m.\u001b[39mencode(\n\u001b[0;32m----> 5\u001b[0m     x\u001b[38;5;241m=\u001b[39m\u001b[43malt\u001b[49m\u001b[38;5;241;43m.\u001b[39;49m\u001b[43mX\u001b[49m\u001b[43m(\u001b[49m\u001b[38;5;124;43m\"\u001b[39;49m\u001b[38;5;124;43mparam_kneighborsclassifier__n_neighbors\u001b[39;49m\u001b[38;5;124;43m\"\u001b[39;49m\u001b[43m)\u001b[49m\u001b[38;5;241;43m.\u001b[39;49m\u001b[43mtitle\u001b[49m\u001b[43m(\u001b[49m\u001b[38;5;124;43m\"\u001b[39;49m\u001b[38;5;124;43mNeighbors\u001b[39;49m\u001b[38;5;124;43m\"\u001b[39;49m\u001b[43m)\u001b[49m,\n\u001b[1;32m      6\u001b[0m     y\u001b[38;5;241m=\u001b[39malt\u001b[38;5;241m.\u001b[39mY(\u001b[38;5;124m\"\u001b[39m\u001b[38;5;124mmean_test_score\u001b[39m\u001b[38;5;124m\"\u001b[39m)\n\u001b[1;32m      7\u001b[0m         \u001b[38;5;241m.\u001b[39mscale(domain\u001b[38;5;241m=\u001b[39m(\u001b[38;5;241m0.9\u001b[39m, \u001b[38;5;241m1\u001b[39m))\n\u001b[1;32m      8\u001b[0m         \u001b[38;5;241m.\u001b[39mtitle(\u001b[38;5;124m\"\u001b[39m\u001b[38;5;124mAccuracy estimate\u001b[39m\u001b[38;5;124m\"\u001b[39m),\n\u001b[1;32m      9\u001b[0m     color\u001b[38;5;241m=\u001b[39malt\u001b[38;5;241m.\u001b[39mColor(\u001b[38;5;124m\"\u001b[39m\u001b[38;5;124mmodel\u001b[39m\u001b[38;5;124m\"\u001b[39m)\n\u001b[1;32m     10\u001b[0m )\u001b[38;5;241m+\u001b[39m alt\u001b[38;5;241m.\u001b[39mChart(accuracies_grid_snr)\u001b[38;5;241m.\u001b[39mmark_line(point\u001b[38;5;241m=\u001b[39m\u001b[38;5;28;01mTrue\u001b[39;00m)\u001b[38;5;241m.\u001b[39mencode(\n\u001b[1;32m     11\u001b[0m     x\u001b[38;5;241m=\u001b[39malt\u001b[38;5;241m.\u001b[39mX(\u001b[38;5;124m\"\u001b[39m\u001b[38;5;124mparam_kneighborsclassifier__n_neighbors\u001b[39m\u001b[38;5;124m\"\u001b[39m)\u001b[38;5;241m.\u001b[39mtitle(\u001b[38;5;124m\"\u001b[39m\u001b[38;5;124mNeighbors\u001b[39m\u001b[38;5;124m\"\u001b[39m),\n\u001b[1;32m     12\u001b[0m     y\u001b[38;5;241m=\u001b[39malt\u001b[38;5;241m.\u001b[39mY(\u001b[38;5;124m\"\u001b[39m\u001b[38;5;124mmean_test_score\u001b[39m\u001b[38;5;124m\"\u001b[39m)\n\u001b[1;32m     13\u001b[0m         \u001b[38;5;241m.\u001b[39mscale(domain\u001b[38;5;241m=\u001b[39m(\u001b[38;5;241m0.9\u001b[39m, \u001b[38;5;241m1\u001b[39m))\n\u001b[1;32m     14\u001b[0m         \u001b[38;5;241m.\u001b[39mtitle(\u001b[38;5;124m\"\u001b[39m\u001b[38;5;124mAccuracy estimate\u001b[39m\u001b[38;5;124m\"\u001b[39m),\n\u001b[1;32m     15\u001b[0m     color\u001b[38;5;241m=\u001b[39malt\u001b[38;5;241m.\u001b[39mColor(\u001b[38;5;124m\"\u001b[39m\u001b[38;5;124mmodel\u001b[39m\u001b[38;5;124m\"\u001b[39m)\n\u001b[1;32m     16\u001b[0m )\u001b[38;5;241m.\u001b[39mproperties(width \u001b[38;5;241m=\u001b[39m \u001b[38;5;241m500\u001b[39m, height \u001b[38;5;241m=\u001b[39m \u001b[38;5;241m500\u001b[39m)\n\u001b[1;32m     17\u001b[0m accuracy_vs_k_integrated\n",
      "\u001b[0;31mTypeError\u001b[0m: 'UndefinedType' object is not callable"
     ]
    }
   ],
   "source": [
    "accuracies_grid_integrated['model'] = 'Integrated mean'\n",
    "accuracies_grid_snr['model'] = 'SNR mean'\n",
    "\n",
    "accuracy_vs_k_integrated = alt.Chart(accuracies_grid_integrated, title=\"n vs mean\").mark_line(point=True).encode(\n",
    "    x=alt.X(\"param_kneighborsclassifier__n_neighbors\").title(\"Neighbors\"),\n",
    "    y=alt.Y(\"mean_test_score\")\n",
    "        .scale(domain=(0.9, 1))\n",
    "        .title(\"Accuracy estimate\"),\n",
    "    color=alt.Color(\"model\")\n",
    ")+ alt.Chart(accuracies_grid_snr).mark_line(point=True).encode(\n",
    "    x=alt.X(\"param_kneighborsclassifier__n_neighbors\").title(\"Neighbors\"),\n",
    "    y=alt.Y(\"mean_test_score\")\n",
    "        .scale(domain=(0.9, 1))\n",
    "        .title(\"Accuracy estimate\"),\n",
    "    color=alt.Color(\"model\")\n",
    ").properties(width = 500, height = 500)\n",
    "accuracy_vs_k_integrated"
   ]
  },
  {
   "cell_type": "markdown",
   "id": "cb51b9a5-aa26-41eb-8d8b-383e9eccd04d",
   "metadata": {},
   "source": [
    "# Discussion\n",
    "\n",
    "#### Summary of Findings:\n",
    "\n",
    "In our exploration of the HTRU2 dataset for pulsar detection, the K-Nearest Neighbors (KNN) algorithm, fine-tuned through grid search, revealed an unexpected outcome. The model demonstrated an exceptional level of accuracy of 99% in classifying pulsars with an unusually low number of neighbors (`'n_neighbors'`), specifically with values of 1 or 2. This impressive accuracy questions the expected behavior of the KNN algorithm, where higher `'n_neighbors'` values are typically favored for noise reduction and improved generalization.\n",
    "\n",
    "#### Expectations vs. Findings:\n",
    "\n",
    "The observed accuracy with low `'n_neighbors'` values was not in line with our initial expectations. Typically, higher `'n_neighbors'` values are chosen to ensure robustness against noise and to enhance the model's ability to generalize to unseen data. The unexpected accuracy with minimal neighbors leads to a reconsideration of our assumptions about the dataset and the behavior of the KNN algorithm in this specific context.\n",
    "\n",
    "#### Implications and Impact:\n",
    "\n",
    "The impact of achieving high accuracy with low n_neighbors values is two-fold. Firstly, the dataset may have distinctive characteristics that allow for effective classification with minimal neighbors. Understanding these characteristics could contribute to a more refined interpretation of the dataset.\n",
    "\n",
    "Secondly, the impact extends to the practical application of the model. A highly accurate pulsar detection model has implications for the efficiency and reliability of automated systems designed to identify celestial objects. However, further validation and exploration are essential before confidently applying the model to real-world scenarios.\n",
    "\n",
    "#### Future Questions and Research Avenues:\n",
    "\n",
    "The unexpected findings open the door to several questions and potential research paths:\n",
    "\n",
    "1. Dataset Characteristics:\n",
    "\n",
    "What specific features or patterns in the dataset contribute to the exceptional accuracy with low 'n_neighbors' values?\n",
    "Are there unique characteristics of pulsars that make them distinguishable even with minimal neighbor information?\n",
    "\n",
    "2. Algorithmic Behavior:\n",
    "\n",
    "How does the KNN algorithm adapt to the specific structure of the dataset?\n",
    "Are there scenarios or datasets where low 'n_neighbors' values are consistently advantageous?\n",
    "\n",
    "3. Practical Applications:\n",
    "\n",
    "How can the model's unexpected behavior impact its application in real-world scenarios, such as automated pulsar detection in astronomical surveys?\n",
    "What additional considerations are necessary for deploying the model in practical settings?\n",
    "\n",
    "#### Conclusion:\n",
    "\n",
    "The unexpected findings not only challenge the optimal `'n_neighbors'` value but also make way for more in-depth exploration into the dataset's complexities and the adaptability of the KNN algorithm. Future research can provide valuable insights into the more general relevance of such observations and refine our understanding of machine-learning models in astronomical data analysis."
   ]
  },
  {
   "cell_type": "markdown",
   "id": "f844f4fe-e124-4f2f-9f33-0b48c4e0b54f",
   "metadata": {
    "tags": []
   },
   "source": [
    "#### References"
   ]
  },
  {
   "cell_type": "markdown",
   "id": "15d99d6b-2b67-46e9-bfd8-91f084520030",
   "metadata": {},
   "source": [
    "Searching for and Identifying Pulsars by Ryan Lynch is a paper written for students to learn from and explains what pulsars are and how to identify them from the pulses of radio waves they emit against the noise that reaches earth. From our data set, we were given many values that could help characterize the difference between a pulsar and noise. We can see from the paper by Ryan Lynch that pulsars are periodic signals and therefore can be found and identified by using a Fourier Transform to take the signal received and take it from the time domain into the frequency domain. When we find a signal in the frequency domain we can look at our data and find if the signal is periodic and figure out if the signal is from a pulsar or not. \n",
    "\n",
    "Lynch, R. (n.d.). *Searching for and Identifying Pulsars.* McGill Physics. https://www.physics.mcgill.ca/~rlynch/Outreach/PSC_search_guide.pdf "
   ]
  },
  {
   "cell_type": "markdown",
   "id": "6ae426a2-53e7-43f9-b284-f9de3d3b1061",
   "metadata": {},
   "source": [
    "This paper considers how classification and machine learning have been used extremely well for identifying pulsars compared to using human-reliant means. Computers are able to discern between different types of pulsars that may be easily mistaken for noise by a person trying to identify pulsars. Using machine learning tools reduces errors made by humans and makes identification of pulsars more accurate and faster. Many of the machine learning resources used to identify pulsars use classification and regression. Using machine learning makes identifying pulsars much more accurate and faster and allows us to be able to determine pulsars from noise in a much larger scale compared to humans manually searching for them. \n",
    "\n",
    "Zhang, C. J., Shang, Z. H., Chen, W. M., Xie, L., &amp; Miao, X. H. (2020). A Review of Research on Pulsar Candidate Recognition Based on Machine Learning. *Procedia Computer Science*, 166, 534–538. https://doi.org/10.1016/j.procs.2020.02.050 "
   ]
  },
  {
   "cell_type": "markdown",
   "id": "d36cd058-641d-46ff-afb2-ac052bc394c9",
   "metadata": {},
   "source": [
    "#### Data set reference\n",
    "\n",
    "Lyon, Robert. (2017). HTRU2. UCI Machine Learning Repository. https://doi.org/10.24432/C5DK6R."
   ]
  }
 ],
 "metadata": {
  "kernelspec": {
   "display_name": "Python 3 (ipykernel)",
   "language": "python",
   "name": "python3"
  },
  "language_info": {
   "codemirror_mode": {
    "name": "ipython",
    "version": 3
   },
   "file_extension": ".py",
   "mimetype": "text/x-python",
   "name": "python",
   "nbconvert_exporter": "python",
   "pygments_lexer": "ipython3",
   "version": "3.10.8"
  }
 },
 "nbformat": 4,
 "nbformat_minor": 5
}
